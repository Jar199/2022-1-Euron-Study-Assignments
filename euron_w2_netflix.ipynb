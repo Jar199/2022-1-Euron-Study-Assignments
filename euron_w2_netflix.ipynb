{
  "nbformat": 4,
  "nbformat_minor": 0,
  "metadata": {
    "colab": {
      "name": "euron_w2_netflix.ipynb",
      "provenance": [],
      "collapsed_sections": [],
      "mount_file_id": "1kf6SEu-2fIselfQ3wQzwCaDAbUD3D4gf",
      "authorship_tag": "ABX9TyNfK6bGoXvd6JzBVj3WlHCo",
      "include_colab_link": true
    },
    "kernelspec": {
      "name": "python3",
      "display_name": "Python 3"
    },
    "language_info": {
      "name": "python"
    },
    "accelerator": "TPU"
  },
  "cells": [
    {
      "cell_type": "markdown",
      "metadata": {
        "id": "view-in-github",
        "colab_type": "text"
      },
      "source": [
        "<a href=\"https://colab.research.google.com/github/Jar199/2022-1-Euron-Study-Assignments/blob/Week_2/euron_w2_netflix.ipynb\" target=\"_parent\"><img src=\"https://colab.research.google.com/assets/colab-badge.svg\" alt=\"Open In Colab\"/></a>"
      ]
    },
    {
      "cell_type": "markdown",
      "source": [
        "추천 시스템 공부 관련 코드1 : https://www.kaggle.com/chocozzz/t-academy-recommendation/code  \n",
        "추천 시스템 공부 관련 코드2: https://www.kaggle.com/chocozzz/t-academy-recommendation2/code  \n",
        "필사할 넷플릭스 추천 시스템 원본 코드: https://www.kaggle.com/eward96/netflix-recommendation-engine  "
      ],
      "metadata": {
        "id": "oKyucmCDDLdI"
      }
    },
    {
      "cell_type": "markdown",
      "source": [
        "#Intro  \n",
        "netflix에서 방영되는 영화와 TV쇼를 추천하는 코드, 두가지 방법을 비교해 볼것  \n",
        "- 배우, 감독, 국가, 평점과 장르를 feature로 사용  \n",
        "- 영화 및 TV쇼 서술의 단어들을 feature로 사용"
      ],
      "metadata": {
        "id": "tkjbmYAyHB2X"
      }
    },
    {
      "cell_type": "code",
      "source": [
        "# Import\n",
        "import numpy as np\n",
        "import pandas as pd\n",
        "import re\n",
        "\n",
        "import nltk\n",
        "from nltk.corpus import stopwords\n",
        "nltk.download('stopwords')\n",
        "from nltk.tokenize import word_tokenize"
      ],
      "metadata": {
        "colab": {
          "base_uri": "https://localhost:8080/"
        },
        "id": "oFqiF2_OHA2f",
        "outputId": "19e7f5ec-cee6-4062-945a-ca1a0dd4dd85"
      },
      "execution_count": 1,
      "outputs": [
        {
          "output_type": "stream",
          "name": "stdout",
          "text": [
            "[nltk_data] Downloading package stopwords to /root/nltk_data...\n",
            "[nltk_data]   Unzipping corpora/stopwords.zip.\n"
          ]
        }
      ]
    },
    {
      "cell_type": "code",
      "source": [
        "from google.colab import drive\n",
        "drive.mount('/content/drive')"
      ],
      "metadata": {
        "colab": {
          "base_uri": "https://localhost:8080/"
        },
        "id": "VnK-5PHyVRfS",
        "outputId": "f9be8c9e-ddc2-4628-b90a-7f9e422ecac0"
      },
      "execution_count": 2,
      "outputs": [
        {
          "output_type": "stream",
          "name": "stdout",
          "text": [
            "Drive already mounted at /content/drive; to attempt to forcibly remount, call drive.mount(\"/content/drive\", force_remount=True).\n"
          ]
        }
      ]
    },
    {
      "cell_type": "code",
      "execution_count": 5,
      "metadata": {
        "id": "ttLtQIbwDEWb",
        "colab": {
          "base_uri": "https://localhost:8080/"
        },
        "outputId": "faa18c61-53ff-43ed-c9a5-70d0e97b79fa"
      },
      "outputs": [
        {
          "output_type": "stream",
          "name": "stdout",
          "text": [
            "  show_id     type  title           director  \\\n",
            "0      s1  TV Show     3%                NaN   \n",
            "1      s2    Movie   7:19  Jorge Michel Grau   \n",
            "2      s3    Movie  23:59       Gilbert Chan   \n",
            "3      s4    Movie      9        Shane Acker   \n",
            "4      s5    Movie     21     Robert Luketic   \n",
            "\n",
            "                                                cast        country  \\\n",
            "0  João Miguel, Bianca Comparato, Michel Gomes, R...         Brazil   \n",
            "1  Demián Bichir, Héctor Bonilla, Oscar Serrano, ...         Mexico   \n",
            "2  Tedd Chan, Stella Chung, Henley Hii, Lawrence ...      Singapore   \n",
            "3  Elijah Wood, John C. Reilly, Jennifer Connelly...  United States   \n",
            "4  Jim Sturgess, Kevin Spacey, Kate Bosworth, Aar...  United States   \n",
            "\n",
            "          date_added  release_year rating   duration  \\\n",
            "0    August 14, 2020          2020  TV-MA  4 Seasons   \n",
            "1  December 23, 2016          2016  TV-MA     93 min   \n",
            "2  December 20, 2018          2011      R     78 min   \n",
            "3  November 16, 2017          2009  PG-13     80 min   \n",
            "4    January 1, 2020          2008  PG-13    123 min   \n",
            "\n",
            "                                           listed_in  \\\n",
            "0  International TV Shows, TV Dramas, TV Sci-Fi &...   \n",
            "1                       Dramas, International Movies   \n",
            "2                Horror Movies, International Movies   \n",
            "3  Action & Adventure, Independent Movies, Sci-Fi...   \n",
            "4                                             Dramas   \n",
            "\n",
            "                                         description  \n",
            "0  In a future where the elite inhabit an island ...  \n",
            "1  After a devastating earthquake hits Mexico Cit...  \n",
            "2  When an army recruit is found dead, his fellow...  \n",
            "3  In a postapocalyptic world, rag-doll robots hi...  \n",
            "4  A brilliant group of students become card-coun...  \n",
            "=================================================\n",
            "         show_id  title  director  cast  country  date_added  release_year  \\\n",
            "type                                                                         \n",
            "Movie       5377   5377      5214  4951     5147        5377          5377   \n",
            "TV Show     2410   2410       184  2118     2133        2400          2410   \n",
            "\n",
            "         rating  duration  listed_in  description  \n",
            "type                                               \n",
            "Movie      5372      5377       5377         5377  \n",
            "TV Show    2408      2410       2410         2410  \n",
            "=================================================\n"
          ]
        }
      ],
      "source": [
        "# Data 불러오기\n",
        "data = pd.read_csv('../input/netflix-shows/netflix_titles.csv')\n",
        "print(data.head())\n",
        "print(\"=================================================\")\n",
        "print(data.groupby('type').count())\n",
        "print(\"=================================================\")\n",
        "data = data.dropna(subset=['cast', 'country', 'rating'])"
      ]
    },
    {
      "cell_type": "markdown",
      "source": [
        "# 배우, 감독, 국가, 평점 및 장르를 사용하여 추천 엔진을 개발"
      ],
      "metadata": {
        "id": "KDnpwOf0Ymyk"
      }
    },
    {
      "cell_type": "code",
      "source": [
        "# 영화 관련\n",
        "movies = data[data['type']=='Movie'].reset_index()\n",
        "movies = movies.drop(['index', 'show_id', 'type', 'date_added', 'release_year', 'duration', 'description'], axis=1)\n",
        "movies.head()\n",
        "print() \n",
        "# tv쇼 관련\n",
        "tv = data[data['type']=='TV Show'].reset_index()\n",
        "t = tv.drop(['index', 'show_id', 'type', 'date_added', 'release_year', 'duration', 'description'], axis=1)\n",
        "tv.head() "
      ],
      "metadata": {
        "colab": {
          "base_uri": "https://localhost:8080/",
          "height": 441
        },
        "id": "VvWyrIuhH9d2",
        "outputId": "796d1149-e5e0-4162-b8a6-05203c57d8a6"
      },
      "execution_count": 6,
      "outputs": [
        {
          "output_type": "stream",
          "name": "stdout",
          "text": [
            "\n"
          ]
        },
        {
          "output_type": "execute_result",
          "data": {
            "text/plain": [
              "   index show_id     type                                title     director  \\\n",
              "0      0      s1  TV Show                                   3%          NaN   \n",
              "1      5      s6  TV Show                                   46  Serdar Akar   \n",
              "2     11     s12  TV Show                                 1983          NaN   \n",
              "3     24     s25  TV Show  ​SAINT SEIYA: Knights of the Zodiac          NaN   \n",
              "4     29     s30  TV Show                             #blackAF          NaN   \n",
              "\n",
              "                                                cast                country  \\\n",
              "0  João Miguel, Bianca Comparato, Michel Gomes, R...                 Brazil   \n",
              "1  Erdal Beşikçioğlu, Yasemin Allen, Melis Birkan...                 Turkey   \n",
              "2  Robert Więckiewicz, Maciej Musiał, Michalina O...  Poland, United States   \n",
              "3  Bryson Baugus, Emily Neves, Blake Shepard, Pat...                  Japan   \n",
              "4  Kenya Barris, Rashida Jones, Iman Benson, Genn...          United States   \n",
              "\n",
              "          date_added  release_year rating   duration  \\\n",
              "0    August 14, 2020          2020  TV-MA  4 Seasons   \n",
              "1       July 1, 2017          2016  TV-MA   1 Season   \n",
              "2  November 30, 2018          2018  TV-MA   1 Season   \n",
              "3   January 23, 2020          2020  TV-14  2 Seasons   \n",
              "4     April 17, 2020          2020  TV-MA   1 Season   \n",
              "\n",
              "                                           listed_in  \\\n",
              "0  International TV Shows, TV Dramas, TV Sci-Fi &...   \n",
              "1    International TV Shows, TV Dramas, TV Mysteries   \n",
              "2  Crime TV Shows, International TV Shows, TV Dramas   \n",
              "3               Anime Series, International TV Shows   \n",
              "4                                        TV Comedies   \n",
              "\n",
              "                                         description  \n",
              "0  In a future where the elite inhabit an island ...  \n",
              "1  A genetics professor experiments with a treatm...  \n",
              "2  In this dark alt-history thriller, a naïve law...  \n",
              "3  Seiya and the Knights of the Zodiac rise again...  \n",
              "4  Kenya Barris and his family navigate relations...  "
            ],
            "text/html": [
              "\n",
              "  <div id=\"df-2faa8bf6-210e-4f59-b72d-a0cbb0247eff\">\n",
              "    <div class=\"colab-df-container\">\n",
              "      <div>\n",
              "<style scoped>\n",
              "    .dataframe tbody tr th:only-of-type {\n",
              "        vertical-align: middle;\n",
              "    }\n",
              "\n",
              "    .dataframe tbody tr th {\n",
              "        vertical-align: top;\n",
              "    }\n",
              "\n",
              "    .dataframe thead th {\n",
              "        text-align: right;\n",
              "    }\n",
              "</style>\n",
              "<table border=\"1\" class=\"dataframe\">\n",
              "  <thead>\n",
              "    <tr style=\"text-align: right;\">\n",
              "      <th></th>\n",
              "      <th>index</th>\n",
              "      <th>show_id</th>\n",
              "      <th>type</th>\n",
              "      <th>title</th>\n",
              "      <th>director</th>\n",
              "      <th>cast</th>\n",
              "      <th>country</th>\n",
              "      <th>date_added</th>\n",
              "      <th>release_year</th>\n",
              "      <th>rating</th>\n",
              "      <th>duration</th>\n",
              "      <th>listed_in</th>\n",
              "      <th>description</th>\n",
              "    </tr>\n",
              "  </thead>\n",
              "  <tbody>\n",
              "    <tr>\n",
              "      <th>0</th>\n",
              "      <td>0</td>\n",
              "      <td>s1</td>\n",
              "      <td>TV Show</td>\n",
              "      <td>3%</td>\n",
              "      <td>NaN</td>\n",
              "      <td>João Miguel, Bianca Comparato, Michel Gomes, R...</td>\n",
              "      <td>Brazil</td>\n",
              "      <td>August 14, 2020</td>\n",
              "      <td>2020</td>\n",
              "      <td>TV-MA</td>\n",
              "      <td>4 Seasons</td>\n",
              "      <td>International TV Shows, TV Dramas, TV Sci-Fi &amp;...</td>\n",
              "      <td>In a future where the elite inhabit an island ...</td>\n",
              "    </tr>\n",
              "    <tr>\n",
              "      <th>1</th>\n",
              "      <td>5</td>\n",
              "      <td>s6</td>\n",
              "      <td>TV Show</td>\n",
              "      <td>46</td>\n",
              "      <td>Serdar Akar</td>\n",
              "      <td>Erdal Beşikçioğlu, Yasemin Allen, Melis Birkan...</td>\n",
              "      <td>Turkey</td>\n",
              "      <td>July 1, 2017</td>\n",
              "      <td>2016</td>\n",
              "      <td>TV-MA</td>\n",
              "      <td>1 Season</td>\n",
              "      <td>International TV Shows, TV Dramas, TV Mysteries</td>\n",
              "      <td>A genetics professor experiments with a treatm...</td>\n",
              "    </tr>\n",
              "    <tr>\n",
              "      <th>2</th>\n",
              "      <td>11</td>\n",
              "      <td>s12</td>\n",
              "      <td>TV Show</td>\n",
              "      <td>1983</td>\n",
              "      <td>NaN</td>\n",
              "      <td>Robert Więckiewicz, Maciej Musiał, Michalina O...</td>\n",
              "      <td>Poland, United States</td>\n",
              "      <td>November 30, 2018</td>\n",
              "      <td>2018</td>\n",
              "      <td>TV-MA</td>\n",
              "      <td>1 Season</td>\n",
              "      <td>Crime TV Shows, International TV Shows, TV Dramas</td>\n",
              "      <td>In this dark alt-history thriller, a naïve law...</td>\n",
              "    </tr>\n",
              "    <tr>\n",
              "      <th>3</th>\n",
              "      <td>24</td>\n",
              "      <td>s25</td>\n",
              "      <td>TV Show</td>\n",
              "      <td>​SAINT SEIYA: Knights of the Zodiac</td>\n",
              "      <td>NaN</td>\n",
              "      <td>Bryson Baugus, Emily Neves, Blake Shepard, Pat...</td>\n",
              "      <td>Japan</td>\n",
              "      <td>January 23, 2020</td>\n",
              "      <td>2020</td>\n",
              "      <td>TV-14</td>\n",
              "      <td>2 Seasons</td>\n",
              "      <td>Anime Series, International TV Shows</td>\n",
              "      <td>Seiya and the Knights of the Zodiac rise again...</td>\n",
              "    </tr>\n",
              "    <tr>\n",
              "      <th>4</th>\n",
              "      <td>29</td>\n",
              "      <td>s30</td>\n",
              "      <td>TV Show</td>\n",
              "      <td>#blackAF</td>\n",
              "      <td>NaN</td>\n",
              "      <td>Kenya Barris, Rashida Jones, Iman Benson, Genn...</td>\n",
              "      <td>United States</td>\n",
              "      <td>April 17, 2020</td>\n",
              "      <td>2020</td>\n",
              "      <td>TV-MA</td>\n",
              "      <td>1 Season</td>\n",
              "      <td>TV Comedies</td>\n",
              "      <td>Kenya Barris and his family navigate relations...</td>\n",
              "    </tr>\n",
              "  </tbody>\n",
              "</table>\n",
              "</div>\n",
              "      <button class=\"colab-df-convert\" onclick=\"convertToInteractive('df-2faa8bf6-210e-4f59-b72d-a0cbb0247eff')\"\n",
              "              title=\"Convert this dataframe to an interactive table.\"\n",
              "              style=\"display:none;\">\n",
              "        \n",
              "  <svg xmlns=\"http://www.w3.org/2000/svg\" height=\"24px\"viewBox=\"0 0 24 24\"\n",
              "       width=\"24px\">\n",
              "    <path d=\"M0 0h24v24H0V0z\" fill=\"none\"/>\n",
              "    <path d=\"M18.56 5.44l.94 2.06.94-2.06 2.06-.94-2.06-.94-.94-2.06-.94 2.06-2.06.94zm-11 1L8.5 8.5l.94-2.06 2.06-.94-2.06-.94L8.5 2.5l-.94 2.06-2.06.94zm10 10l.94 2.06.94-2.06 2.06-.94-2.06-.94-.94-2.06-.94 2.06-2.06.94z\"/><path d=\"M17.41 7.96l-1.37-1.37c-.4-.4-.92-.59-1.43-.59-.52 0-1.04.2-1.43.59L10.3 9.45l-7.72 7.72c-.78.78-.78 2.05 0 2.83L4 21.41c.39.39.9.59 1.41.59.51 0 1.02-.2 1.41-.59l7.78-7.78 2.81-2.81c.8-.78.8-2.07 0-2.86zM5.41 20L4 18.59l7.72-7.72 1.47 1.35L5.41 20z\"/>\n",
              "  </svg>\n",
              "      </button>\n",
              "      \n",
              "  <style>\n",
              "    .colab-df-container {\n",
              "      display:flex;\n",
              "      flex-wrap:wrap;\n",
              "      gap: 12px;\n",
              "    }\n",
              "\n",
              "    .colab-df-convert {\n",
              "      background-color: #E8F0FE;\n",
              "      border: none;\n",
              "      border-radius: 50%;\n",
              "      cursor: pointer;\n",
              "      display: none;\n",
              "      fill: #1967D2;\n",
              "      height: 32px;\n",
              "      padding: 0 0 0 0;\n",
              "      width: 32px;\n",
              "    }\n",
              "\n",
              "    .colab-df-convert:hover {\n",
              "      background-color: #E2EBFA;\n",
              "      box-shadow: 0px 1px 2px rgba(60, 64, 67, 0.3), 0px 1px 3px 1px rgba(60, 64, 67, 0.15);\n",
              "      fill: #174EA6;\n",
              "    }\n",
              "\n",
              "    [theme=dark] .colab-df-convert {\n",
              "      background-color: #3B4455;\n",
              "      fill: #D2E3FC;\n",
              "    }\n",
              "\n",
              "    [theme=dark] .colab-df-convert:hover {\n",
              "      background-color: #434B5C;\n",
              "      box-shadow: 0px 1px 3px 1px rgba(0, 0, 0, 0.15);\n",
              "      filter: drop-shadow(0px 1px 2px rgba(0, 0, 0, 0.3));\n",
              "      fill: #FFFFFF;\n",
              "    }\n",
              "  </style>\n",
              "\n",
              "      <script>\n",
              "        const buttonEl =\n",
              "          document.querySelector('#df-2faa8bf6-210e-4f59-b72d-a0cbb0247eff button.colab-df-convert');\n",
              "        buttonEl.style.display =\n",
              "          google.colab.kernel.accessAllowed ? 'block' : 'none';\n",
              "\n",
              "        async function convertToInteractive(key) {\n",
              "          const element = document.querySelector('#df-2faa8bf6-210e-4f59-b72d-a0cbb0247eff');\n",
              "          const dataTable =\n",
              "            await google.colab.kernel.invokeFunction('convertToInteractive',\n",
              "                                                     [key], {});\n",
              "          if (!dataTable) return;\n",
              "\n",
              "          const docLinkHtml = 'Like what you see? Visit the ' +\n",
              "            '<a target=\"_blank\" href=https://colab.research.google.com/notebooks/data_table.ipynb>data table notebook</a>'\n",
              "            + ' to learn more about interactive tables.';\n",
              "          element.innerHTML = '';\n",
              "          dataTable['output_type'] = 'display_data';\n",
              "          await google.colab.output.renderOutput(dataTable, element);\n",
              "          const docLink = document.createElement('div');\n",
              "          docLink.innerHTML = docLinkHtml;\n",
              "          element.appendChild(docLink);\n",
              "        }\n",
              "      </script>\n",
              "    </div>\n",
              "  </div>\n",
              "  "
            ]
          },
          "metadata": {},
          "execution_count": 6
        }
      ]
    },
    {
      "cell_type": "code",
      "source": [
        "# 영화 관련 -> one-hot 만들기\n",
        "actors = []\n",
        "\n",
        "for i in movies['cast']:\n",
        "  actor = re.split(r', \\s*', i) # 하나의 영화 안에서도 여러명의 cast존재 -> 각각 쪼개 각각 하나의 actor로\n",
        "  actors.append(actor)\n",
        "\n",
        "flat_list = [] \n",
        "# 여러개의 vector로 되어있는 actor 이름들을  -> list로 나타냄\n",
        "for sublist in actors:\n",
        "  for item in sublist:\n",
        "    flat_list.append(item)\n",
        "\n",
        "# 배우들 list\n",
        "actors_list = sorted(set(flat_list)) # 중복 없애고 배우 이름 순으로 나열한 list\n",
        "\n",
        "binary_actors = [[0]*0 for i in range(len(set(flat_list)))]\n",
        "# (?)x(후보 actor 수)\n",
        "\n",
        "# movies['cast']에 저장되어있는 배우 순으로 본인 이름이면 1추가, 본인 이름 아니면 0추가 해서 0혹은 1로 구성된 matrix 생성(본인 이름에 표시된)\n",
        "for i in movies['cast']:\n",
        "  k = 0\n",
        "  for j in actors_list:\n",
        "    if j in i:\n",
        "      binary_actors[k].append(1.0) # 나온 배우들에 1로 표기\n",
        "    else:\n",
        "      binary_actors[k].append(0.0)\n",
        "    k +=1\n",
        "# (movie 수)x(후보 actor 수)\n",
        "\n",
        "binary_actors = pd.DataFrame(binary_actors).transpose()\n",
        "# (후보 actor 수)x(movie 수)\n",
        "\n",
        "directors = []\n",
        "\n",
        "for i in movies['director']:\n",
        "  if pd.notna(i): # 누락값 여부 체크하는 함수\u001f\n",
        "    director = re.split(r', \\s*', i)\n",
        "    directors.append(director)\n",
        "\n",
        "flat_list2 = []\n",
        "for sublist in directors:\n",
        "  for item in sublist:\n",
        "    flat_list2.append(item)\n",
        "\n",
        "directors_list = sorted(set(flat_list2))\n",
        "\n",
        "binary_directors = [[0]*0 for i in range(len(set(flat_list2)))]\n",
        "\n",
        "for i in movies['director']:\n",
        "  k=0\n",
        "  for j in directors_list:\n",
        "    if pd.isna(i):\n",
        "      binary_directors[k].append(0.0)\n",
        "    elif j in i: # null값도 아니고 directors_list에 있는 경우에만 1\n",
        "      binary_directors[k].append(1.0)\n",
        "    else:\n",
        "      binary_directors[k].append(0.0)\n",
        "    k+=1\n",
        "\n",
        "binary_directors = pd.DataFrame(binary_directors).transpose()\n",
        "\n",
        "countries = []\n",
        "\n",
        "for i in movies['country']:\n",
        "    country = re.split(r', \\s*', i)\n",
        "    countries.append(country)\n",
        "    \n",
        "flat_list3 = []\n",
        "for sublist in countries:\n",
        "    for item in sublist:\n",
        "        flat_list3.append(item)\n",
        "        \n",
        "countries_list = sorted(set(flat_list3))\n",
        "\n",
        "binary_countries = [[0] * 0 for i in range(len(set(flat_list3)))]\n",
        "\n",
        "for i in movies['country']:\n",
        "    k = 0\n",
        "    for j in countries_list:\n",
        "        if j in i:\n",
        "            binary_countries[k].append(1.0)\n",
        "        else:\n",
        "            binary_countries[k].append(0.0)\n",
        "        k+=1\n",
        "        \n",
        "binary_countries = pd.DataFrame(binary_countries).transpose()\n",
        "\n",
        "genres = []\n",
        "\n",
        "for i in movies['listed_in']:\n",
        "    genre = re.split(r', \\s*', i)\n",
        "    genres.append(genre)\n",
        "    \n",
        "flat_list4 = []\n",
        "for sublist in genres:\n",
        "    for item in sublist:\n",
        "        flat_list4.append(item)\n",
        "        \n",
        "genres_list = sorted(set(flat_list4))\n",
        "\n",
        "binary_genres = [[0] * 0 for i in range(len(set(flat_list4)))]\n",
        "\n",
        "for i in movies['listed_in']:\n",
        "    k = 0\n",
        "    for j in genres_list:\n",
        "        if j in i:\n",
        "            binary_genres[k].append(1.0)\n",
        "        else:\n",
        "            binary_genres[k].append(0.0)\n",
        "        k+=1\n",
        "        \n",
        "binary_genres = pd.DataFrame(binary_genres).transpose()\n",
        "\n",
        "ratings = []\n",
        "\n",
        "for i in movies['rating']:\n",
        "    ratings.append(i)\n",
        "\n",
        "ratings_list = sorted(set(ratings))\n",
        "\n",
        "binary_ratings = [[0] * 0 for i in range(len(set(ratings_list)))]\n",
        "\n",
        "for i in movies['rating']:\n",
        "    k = 0\n",
        "    for j in ratings_list:\n",
        "        if j in i:\n",
        "            binary_ratings[k].append(1.0)\n",
        "        else:\n",
        "            binary_ratings[k].append(0.0)\n",
        "        k+=1\n",
        "        \n",
        "binary_ratings = pd.DataFrame(binary_ratings).transpose()"
      ],
      "metadata": {
        "id": "aDCIZ_ezIb8I"
      },
      "execution_count": 7,
      "outputs": []
    },
    {
      "cell_type": "code",
      "source": [
        "binary = pd.concat([binary_actors, binary_directors, binary_countries, binary_genres], axis=1, ignore_index=True)\n",
        "print(binary)\n",
        "print(np.shape(binary_actors))\n",
        "print(np.shape(binary_directors))\n",
        "print(np.shape(binary_countries))\n",
        "print(np.shape(binary_genres))\n",
        "# 종류의 수가 가장 적은 cast에서 중복 제거한 cast의 종류의 수가 row개수가 되고 "
      ],
      "metadata": {
        "colab": {
          "base_uri": "https://localhost:8080/"
        },
        "id": "A3sp1jl6L7nb",
        "outputId": "57cf8f08-ddf5-4205-d4c7-3e6532cf9699"
      },
      "execution_count": 9,
      "outputs": [
        {
          "output_type": "stream",
          "name": "stdout",
          "text": [
            "      0      1      2      3      4      5      6      7      8      9      \\\n",
            "0       0.0    0.0    0.0    0.0    0.0    0.0    0.0    0.0    0.0    0.0   \n",
            "1       0.0    0.0    0.0    0.0    0.0    0.0    0.0    0.0    0.0    0.0   \n",
            "2       0.0    0.0    0.0    0.0    0.0    0.0    0.0    0.0    0.0    0.0   \n",
            "3       0.0    0.0    0.0    0.0    0.0    0.0    0.0    0.0    0.0    0.0   \n",
            "4       0.0    0.0    0.0    0.0    0.0    0.0    0.0    0.0    0.0    0.0   \n",
            "...     ...    ...    ...    ...    ...    ...    ...    ...    ...    ...   \n",
            "4756    0.0    0.0    0.0    0.0    0.0    0.0    0.0    0.0    0.0    0.0   \n",
            "4757    0.0    0.0    0.0    0.0    0.0    0.0    0.0    0.0    0.0    0.0   \n",
            "4758    0.0    0.0    0.0    0.0    0.0    0.0    0.0    0.0    0.0    0.0   \n",
            "4759    0.0    0.0    0.0    0.0    0.0    0.0    0.0    0.0    0.0    0.0   \n",
            "4760    0.0    0.0    0.0    0.0    0.0    0.0    0.0    0.0    0.0    0.0   \n",
            "\n",
            "      ...  26570  26571  26572  26573  26574  26575  26576  26577  26578  \\\n",
            "0     ...    0.0    1.0    0.0    1.0    0.0    0.0    0.0    0.0    0.0   \n",
            "1     ...    0.0    1.0    0.0    1.0    0.0    0.0    0.0    0.0    0.0   \n",
            "2     ...    1.0    0.0    0.0    1.0    0.0    0.0    1.0    0.0    0.0   \n",
            "3     ...    0.0    0.0    0.0    0.0    0.0    0.0    0.0    0.0    0.0   \n",
            "4     ...    0.0    1.0    0.0    1.0    0.0    0.0    0.0    0.0    0.0   \n",
            "...   ...    ...    ...    ...    ...    ...    ...    ...    ...    ...   \n",
            "4756  ...    0.0    0.0    0.0    1.0    0.0    0.0    0.0    0.0    0.0   \n",
            "4757  ...    1.0    1.0    0.0    1.0    0.0    0.0    0.0    0.0    0.0   \n",
            "4758  ...    0.0    0.0    0.0    1.0    0.0    0.0    0.0    0.0    0.0   \n",
            "4759  ...    0.0    1.0    0.0    1.0    0.0    0.0    0.0    0.0    0.0   \n",
            "4760  ...    0.0    1.0    0.0    1.0    1.0    0.0    0.0    0.0    0.0   \n",
            "\n",
            "      26579  \n",
            "0       0.0  \n",
            "1       0.0  \n",
            "2       0.0  \n",
            "3       0.0  \n",
            "4       0.0  \n",
            "...     ...  \n",
            "4756    0.0  \n",
            "4757    0.0  \n",
            "4758    0.0  \n",
            "4759    0.0  \n",
            "4760    0.0  \n",
            "\n",
            "[4761 rows x 26580 columns]\n",
            "(4761, 22622)\n",
            "(4761, 3833)\n",
            "(4761, 105)\n",
            "(4761, 20)\n"
          ]
        }
      ]
    },
    {
      "cell_type": "code",
      "source": [
        "# TV 쇼의 table 만들기\n",
        "actors2 = []\n",
        "\n",
        "for i in tv['cast']:\n",
        "    actor2 = re.split(r', \\s*', i)\n",
        "    actors2.append(actor2)\n",
        "    \n",
        "flat_list5 = []\n",
        "for sublist in actors2:\n",
        "    for item in sublist:\n",
        "        flat_list5.append(item)\n",
        "        \n",
        "actors_list2 = sorted(set(flat_list5))\n",
        "\n",
        "binary_actors2 = [[0] * 0 for i in range(len(set(flat_list5)))]\n",
        "\n",
        "for i in tv['cast']:\n",
        "    k = 0\n",
        "    for j in actors_list2:\n",
        "        if j in i:\n",
        "            binary_actors2[k].append(1.0)\n",
        "        else:\n",
        "            binary_actors2[k].append(0.0)\n",
        "        k+=1\n",
        "        \n",
        "binary_actors2 = pd.DataFrame(binary_actors2).transpose()\n",
        "        \n",
        "\n",
        "countries2 = []\n",
        "\n",
        "for i in tv['country']:\n",
        "    country2 = re.split(r', \\s*', i)\n",
        "    countries2.append(country2)\n",
        "    \n",
        "flat_list6 = []\n",
        "for sublist in countries2:\n",
        "    for item in sublist:\n",
        "        flat_list6.append(item)\n",
        "        \n",
        "countries_list2 = sorted(set(flat_list6))\n",
        "\n",
        "binary_countries2 = [[0] * 0 for i in range(len(set(flat_list6)))]\n",
        "\n",
        "for i in tv['country']:\n",
        "    k = 0\n",
        "    for j in countries_list2:\n",
        "        if j in i:\n",
        "            binary_countries2[k].append(1.0)\n",
        "        else:\n",
        "            binary_countries2[k].append(0.0)\n",
        "        k+=1\n",
        "        \n",
        "binary_countries2 = pd.DataFrame(binary_countries2).transpose()\n",
        "\n",
        "genres2 = []\n",
        "\n",
        "for i in tv['listed_in']:\n",
        "    genre2 = re.split(r', \\s*', i)\n",
        "    genres2.append(genre2)\n",
        "    \n",
        "flat_list7 = []\n",
        "for sublist in genres2:\n",
        "    for item in sublist:\n",
        "        flat_list7.append(item)\n",
        "        \n",
        "genres_list2 = sorted(set(flat_list7))\n",
        "\n",
        "binary_genres2 = [[0] * 0 for i in range(len(set(flat_list7)))]\n",
        "\n",
        "for i in tv['listed_in']:\n",
        "    k = 0\n",
        "    for j in genres_list2:\n",
        "        if j in i:\n",
        "            binary_genres2[k].append(1.0)\n",
        "        else:\n",
        "            binary_genres2[k].append(0.0)\n",
        "        k+=1\n",
        "        \n",
        "binary_genres2 = pd.DataFrame(binary_genres2).transpose()\n",
        "\n",
        "ratings2 = []\n",
        "\n",
        "for i in tv['rating']:\n",
        "    ratings2.append(i)\n",
        "\n",
        "ratings_list2 = sorted(set(ratings2))\n",
        "\n",
        "binary_ratings2 = [[0] * 0 for i in range(len(set(ratings_list2)))]\n",
        "\n",
        "for i in tv['rating']:\n",
        "    k = 0\n",
        "    for j in ratings_list2:\n",
        "        if j in i:\n",
        "            binary_ratings2[k].append(1.0)\n",
        "        else:\n",
        "            binary_ratings2[k].append(0.0)\n",
        "        k+=1\n",
        "        \n",
        "binary_ratings2 = pd.DataFrame(binary_ratings2).transpose()"
      ],
      "metadata": {
        "id": "rjJP3BRuXNVJ"
      },
      "execution_count": 8,
      "outputs": []
    },
    {
      "cell_type": "code",
      "source": [
        "binary2 = pd.concat([binary_actors2, binary_countries2, binary_genres2], axis=1, ignore_index=True)\n",
        "print(binary2)"
      ],
      "metadata": {
        "colab": {
          "base_uri": "https://localhost:8080/"
        },
        "id": "dbjpre5rYF9_",
        "outputId": "823bcc18-3799-4c70-9a82-9feb1a396544"
      },
      "execution_count": 10,
      "outputs": [
        {
          "output_type": "stream",
          "name": "stdout",
          "text": [
            "      0      1      2      3      4      5      6      7      8      9      \\\n",
            "0       0.0    0.0    0.0    0.0    0.0    0.0    0.0    0.0    0.0    0.0   \n",
            "1       0.0    0.0    0.0    0.0    0.0    0.0    0.0    0.0    0.0    0.0   \n",
            "2       0.0    0.0    0.0    0.0    0.0    0.0    0.0    0.0    0.0    0.0   \n",
            "3       0.0    0.0    0.0    0.0    0.0    0.0    0.0    0.0    0.0    0.0   \n",
            "4       0.0    0.0    0.0    0.0    0.0    0.0    0.0    0.0    0.0    0.0   \n",
            "...     ...    ...    ...    ...    ...    ...    ...    ...    ...    ...   \n",
            "1886    0.0    0.0    0.0    0.0    0.0    0.0    0.0    0.0    0.0    0.0   \n",
            "1887    0.0    0.0    0.0    0.0    0.0    0.0    0.0    0.0    0.0    0.0   \n",
            "1888    0.0    0.0    0.0    0.0    0.0    0.0    0.0    0.0    0.0    0.0   \n",
            "1889    0.0    0.0    0.0    0.0    0.0    0.0    0.0    0.0    0.0    0.0   \n",
            "1890    0.0    0.0    0.0    0.0    0.0    0.0    0.0    0.0    0.0    0.0   \n",
            "\n",
            "      ...  12741  12742  12743  12744  12745  12746  12747  12748  12749  \\\n",
            "0     ...    0.0    0.0    0.0    1.0    0.0    0.0    1.0    1.0    0.0   \n",
            "1     ...    0.0    0.0    0.0    1.0    0.0    1.0    0.0    1.0    0.0   \n",
            "2     ...    0.0    0.0    0.0    1.0    0.0    0.0    0.0    1.0    0.0   \n",
            "3     ...    0.0    0.0    0.0    0.0    0.0    0.0    0.0    1.0    0.0   \n",
            "4     ...    0.0    0.0    1.0    0.0    0.0    0.0    0.0    0.0    0.0   \n",
            "...   ...    ...    ...    ...    ...    ...    ...    ...    ...    ...   \n",
            "1886  ...    0.0    0.0    0.0    0.0    0.0    0.0    0.0    0.0    0.0   \n",
            "1887  ...    0.0    0.0    0.0    1.0    0.0    0.0    0.0    1.0    0.0   \n",
            "1888  ...    0.0    0.0    0.0    0.0    0.0    0.0    0.0    0.0    0.0   \n",
            "1889  ...    1.0    0.0    0.0    0.0    0.0    0.0    0.0    1.0    0.0   \n",
            "1890  ...    0.0    0.0    0.0    0.0    0.0    0.0    0.0    1.0    0.0   \n",
            "\n",
            "      12750  \n",
            "0       0.0  \n",
            "1       0.0  \n",
            "2       0.0  \n",
            "3       0.0  \n",
            "4       0.0  \n",
            "...     ...  \n",
            "1886    0.0  \n",
            "1887    0.0  \n",
            "1888    0.0  \n",
            "1889    0.0  \n",
            "1890    0.0  \n",
            "\n",
            "[1891 rows x 12751 columns]\n"
          ]
        }
      ]
    },
    {
      "cell_type": "markdown",
      "source": [
        "##영화 및 TV 쇼의 배우, 감독, 국가, 평점 정보 사용하여 추천 시스템 구현"
      ],
      "metadata": {
        "id": "n__Y6BA6IbmX"
      }
    },
    {
      "cell_type": "code",
      "source": [
        "def recommender(search):\n",
        "    cs_list = []\n",
        "    binary_list = []\n",
        "    # 사용자가 입력한 영화 혹은 tv 쇼의 제목에 해당하는 영화를 찾아 배우, 감독, 국가, 평점의 정보를 찾아낸다.\n",
        "    ## 영화인지 확인\n",
        "    if search in movies['title'].values:\n",
        "        idx = movies[movies['title'] == search].index.item()\n",
        "        for i in binary.iloc[idx]: # 영화의 정보들을 list에 넣는다\n",
        "            binary_list.append(i)\n",
        "        point1 = np.array(binary_list).reshape(1, -1)\n",
        "        point1 = [val for sublist in point1 for val in sublist]    \n",
        "        for j in range(len(movies)):\n",
        "            binary_list2 = []\n",
        "            for k in binary.iloc[j]:\n",
        "                binary_list2.append(k)\n",
        "            point2 = np.array(binary_list2).reshape(1, -1)\n",
        "            point2 = [val for sublist in point2 for val in sublist]\n",
        "            # 두 영화(입력한 영화와 모든 영화 중 하나)의 유사도를 계산\n",
        "            ## 수식의 의미?\n",
        "            dot_product = np.dot(point1, point2)\n",
        "            norm_1 = np.linalg.norm(point1)\n",
        "            norm_2 = np.linalg.norm(point2)\n",
        "            cos_sim = dot_product / (norm_1 * norm_2)\n",
        "            cs_list.append(cos_sim)\n",
        "        movies_copy = movies.copy()\n",
        "        movies_copy['cos_sim'] = cs_list\n",
        "        results = movies_copy.sort_values('cos_sim', ascending=False)\n",
        "        results = results[results['title'] != search] # 동일한 영화는 제외\n",
        "        top_results = results.head(5) # 유사도 가장 높은 5개의 영화 출력\n",
        "        return(top_results)\n",
        "    ## tv 쇼인지 확인\n",
        "    elif search in tv['title'].values:\n",
        "        idx = tv[tv['title'] == search].index.item()\n",
        "        for i in binary2.iloc[idx]:\n",
        "            binary_list.append(i)\n",
        "        point1 = np.array(binary_list).reshape(1, -1)\n",
        "        point1 = [val for sublist in point1 for val in sublist]\n",
        "        for j in range(len(tv)):\n",
        "            binary_list2 = []\n",
        "            for k in binary2.iloc[j]:\n",
        "                binary_list2.append(k)\n",
        "            point2 = np.array(binary_list2).reshape(1, -1)\n",
        "            point2 = [val for sublist in point2 for val in sublist]\n",
        "            dot_product = np.dot(point1, point2)\n",
        "            norm_1 = np.linalg.norm(point1)\n",
        "            norm_2 = np.linalg.norm(point2)\n",
        "            cos_sim = dot_product / (norm_1 * norm_2)\n",
        "            cs_list.append(cos_sim)\n",
        "        tv_copy = tv.copy()\n",
        "        tv_copy['cos_sim'] = cs_list\n",
        "        results = tv_copy.sort_values('cos_sim', ascending=False)\n",
        "        results = results[results['title'] != search]    \n",
        "        top_results = results.head(5)\n",
        "        return(top_results)\n",
        "    else:\n",
        "        return(\"Title not in dataset. Please check spelling.\")"
      ],
      "metadata": {
        "id": "r5XBH-dZYe2M"
      },
      "execution_count": 11,
      "outputs": []
    },
    {
      "cell_type": "markdown",
      "source": [
        "## 영화를 추천해본다  \n",
        "영화 제목을 입력하면 해당 영화와 비슷한 영화들을 추천해준다."
      ],
      "metadata": {
        "id": "JTLdPjuaYw_V"
      }
    },
    {
      "cell_type": "code",
      "source": [
        "print(recommender('The Conjuring'))"
      ],
      "metadata": {
        "colab": {
          "base_uri": "https://localhost:8080/",
          "height": 354
        },
        "id": "_2PF-PyTYy2U",
        "outputId": "a44d8f64-439f-47ca-82e7-4602a932c6e5"
      },
      "execution_count": 13,
      "outputs": [
        {
          "output_type": "error",
          "ename": "KeyboardInterrupt",
          "evalue": "ignored",
          "traceback": [
            "\u001b[0;31m---------------------------------------------------------------------------\u001b[0m",
            "\u001b[0;31mKeyboardInterrupt\u001b[0m                         Traceback (most recent call last)",
            "\u001b[0;32m<ipython-input-13-d4658ad2c6f7>\u001b[0m in \u001b[0;36m<module>\u001b[0;34m()\u001b[0m\n\u001b[0;32m----> 1\u001b[0;31m \u001b[0mprint\u001b[0m\u001b[0;34m(\u001b[0m\u001b[0mrecommender\u001b[0m\u001b[0;34m(\u001b[0m\u001b[0;34m'The Conjuring'\u001b[0m\u001b[0;34m)\u001b[0m\u001b[0;34m)\u001b[0m\u001b[0;34m\u001b[0m\u001b[0;34m\u001b[0m\u001b[0m\n\u001b[0m",
            "\u001b[0;32m<ipython-input-11-7f1c844f420b>\u001b[0m in \u001b[0;36mrecommender\u001b[0;34m(search)\u001b[0m\n\u001b[1;32m     20\u001b[0m             \u001b[0mdot_product\u001b[0m \u001b[0;34m=\u001b[0m \u001b[0mnp\u001b[0m\u001b[0;34m.\u001b[0m\u001b[0mdot\u001b[0m\u001b[0;34m(\u001b[0m\u001b[0mpoint1\u001b[0m\u001b[0;34m,\u001b[0m \u001b[0mpoint2\u001b[0m\u001b[0;34m)\u001b[0m\u001b[0;34m\u001b[0m\u001b[0;34m\u001b[0m\u001b[0m\n\u001b[1;32m     21\u001b[0m             \u001b[0mnorm_1\u001b[0m \u001b[0;34m=\u001b[0m \u001b[0mnp\u001b[0m\u001b[0;34m.\u001b[0m\u001b[0mlinalg\u001b[0m\u001b[0;34m.\u001b[0m\u001b[0mnorm\u001b[0m\u001b[0;34m(\u001b[0m\u001b[0mpoint1\u001b[0m\u001b[0;34m)\u001b[0m\u001b[0;34m\u001b[0m\u001b[0;34m\u001b[0m\u001b[0m\n\u001b[0;32m---> 22\u001b[0;31m             \u001b[0mnorm_2\u001b[0m \u001b[0;34m=\u001b[0m \u001b[0mnp\u001b[0m\u001b[0;34m.\u001b[0m\u001b[0mlinalg\u001b[0m\u001b[0;34m.\u001b[0m\u001b[0mnorm\u001b[0m\u001b[0;34m(\u001b[0m\u001b[0mpoint2\u001b[0m\u001b[0;34m)\u001b[0m\u001b[0;34m\u001b[0m\u001b[0;34m\u001b[0m\u001b[0m\n\u001b[0m\u001b[1;32m     23\u001b[0m             \u001b[0mcos_sim\u001b[0m \u001b[0;34m=\u001b[0m \u001b[0mdot_product\u001b[0m \u001b[0;34m/\u001b[0m \u001b[0;34m(\u001b[0m\u001b[0mnorm_1\u001b[0m \u001b[0;34m*\u001b[0m \u001b[0mnorm_2\u001b[0m\u001b[0;34m)\u001b[0m\u001b[0;34m\u001b[0m\u001b[0;34m\u001b[0m\u001b[0m\n\u001b[1;32m     24\u001b[0m             \u001b[0mcs_list\u001b[0m\u001b[0;34m.\u001b[0m\u001b[0mappend\u001b[0m\u001b[0;34m(\u001b[0m\u001b[0mcos_sim\u001b[0m\u001b[0;34m)\u001b[0m\u001b[0;34m\u001b[0m\u001b[0;34m\u001b[0m\u001b[0m\n",
            "\u001b[0;32m<__array_function__ internals>\u001b[0m in \u001b[0;36mnorm\u001b[0;34m(*args, **kwargs)\u001b[0m\n",
            "\u001b[0;32m/usr/local/lib/python3.7/dist-packages/numpy/linalg/linalg.py\u001b[0m in \u001b[0;36mnorm\u001b[0;34m(x, ord, axis, keepdims)\u001b[0m\n\u001b[1;32m   2512\u001b[0m \u001b[0;34m\u001b[0m\u001b[0m\n\u001b[1;32m   2513\u001b[0m     \"\"\"\n\u001b[0;32m-> 2514\u001b[0;31m     \u001b[0mx\u001b[0m \u001b[0;34m=\u001b[0m \u001b[0masarray\u001b[0m\u001b[0;34m(\u001b[0m\u001b[0mx\u001b[0m\u001b[0;34m)\u001b[0m\u001b[0;34m\u001b[0m\u001b[0;34m\u001b[0m\u001b[0m\n\u001b[0m\u001b[1;32m   2515\u001b[0m \u001b[0;34m\u001b[0m\u001b[0m\n\u001b[1;32m   2516\u001b[0m     \u001b[0;32mif\u001b[0m \u001b[0;32mnot\u001b[0m \u001b[0missubclass\u001b[0m\u001b[0;34m(\u001b[0m\u001b[0mx\u001b[0m\u001b[0;34m.\u001b[0m\u001b[0mdtype\u001b[0m\u001b[0;34m.\u001b[0m\u001b[0mtype\u001b[0m\u001b[0;34m,\u001b[0m \u001b[0;34m(\u001b[0m\u001b[0minexact\u001b[0m\u001b[0;34m,\u001b[0m \u001b[0mobject_\u001b[0m\u001b[0;34m)\u001b[0m\u001b[0;34m)\u001b[0m\u001b[0;34m:\u001b[0m\u001b[0;34m\u001b[0m\u001b[0;34m\u001b[0m\u001b[0m\n",
            "\u001b[0;31mKeyboardInterrupt\u001b[0m: "
          ]
        }
      ]
    },
    {
      "cell_type": "code",
      "source": [
        "print(recommender(\"Child's Play\"))"
      ],
      "metadata": {
        "id": "jEVvyHv_Y2lq"
      },
      "execution_count": null,
      "outputs": []
    },
    {
      "cell_type": "code",
      "source": [
        "print(recommender('Charlie and the Chocolate Factory'))"
      ],
      "metadata": {
        "id": "9FvQy07oY5zr"
      },
      "execution_count": null,
      "outputs": []
    },
    {
      "cell_type": "code",
      "source": [
        "print(recommender('Wild Child'))"
      ],
      "metadata": {
        "id": "vVPL1leoZHW9"
      },
      "execution_count": null,
      "outputs": []
    },
    {
      "cell_type": "code",
      "source": [
        "print(recommender(\"Dr. Seuss' The Cat in the Hat\"))"
      ],
      "metadata": {
        "id": "vZYsEqI8ZIuq"
      },
      "execution_count": null,
      "outputs": []
    },
    {
      "cell_type": "code",
      "source": [
        "print(recommender('Holidate'))"
      ],
      "metadata": {
        "id": "kIVvanm_ZKVO"
      },
      "execution_count": null,
      "outputs": []
    },
    {
      "cell_type": "markdown",
      "source": [
        "## TV 쇼를 추천해본다.  \n",
        "방법은 영화 추천과 같음."
      ],
      "metadata": {
        "id": "3oA_mBc0ZNeV"
      }
    },
    {
      "cell_type": "code",
      "source": [
        "print(recommender('After Life'))"
      ],
      "metadata": {
        "id": "Wcn5bibFZSMk"
      },
      "execution_count": null,
      "outputs": []
    },
    {
      "cell_type": "code",
      "source": [
        "print(recommender('Anne with an E'))"
      ],
      "metadata": {
        "id": "9h7Yc7QsZTto"
      },
      "execution_count": null,
      "outputs": []
    },
    {
      "cell_type": "code",
      "source": [
        "print(recommender('Gilmore Girls'))"
      ],
      "metadata": {
        "id": "iIG3jrv9ZVO2"
      },
      "execution_count": null,
      "outputs": []
    },
    {
      "cell_type": "code",
      "source": [
        "print(recommender('Love on the Spectrum'))"
      ],
      "metadata": {
        "id": "Zo0EwyYVZWy_"
      },
      "execution_count": null,
      "outputs": []
    },
    {
      "cell_type": "code",
      "source": [
        "print(recommender('13 Reasons Why'))"
      ],
      "metadata": {
        "id": "r9hQ9PK1ZYJN"
      },
      "execution_count": null,
      "outputs": []
    },
    {
      "cell_type": "code",
      "source": [
        "print(recommender('Derry Girls'))"
      ],
      "metadata": {
        "id": "9AlQFyCQZZUu"
      },
      "execution_count": null,
      "outputs": []
    },
    {
      "cell_type": "code",
      "source": [
        "print(recommender('Breaking Bad'))"
      ],
      "metadata": {
        "id": "AHZNgxWgZa0S"
      },
      "execution_count": null,
      "outputs": []
    },
    {
      "cell_type": "markdown",
      "source": [
        "# 영화 및 TV 쇼의 설명을 이용한 추천 엔진을 개발"
      ],
      "metadata": {
        "id": "8Ivh7MAIZcBr"
      }
    },
    {
      "cell_type": "code",
      "source": [
        "# 영화\n",
        "movies_des = data[data['type'] == 'Movie'].reset_index()\n",
        "movies_des = movies_des[['title', 'description']]\n",
        "print(movies_des.head())"
      ],
      "metadata": {
        "id": "1p7KhDuSZlbq"
      },
      "execution_count": null,
      "outputs": []
    },
    {
      "cell_type": "code",
      "source": [
        "# TV 쇼\n",
        "tv_des = data[data['type'] == 'TV Show'].reset_index()\n",
        "tv_des = tv_des[['title', 'description']]\n",
        "print(tv_des.head())"
      ],
      "metadata": {
        "id": "K9oZOnazZsM3"
      },
      "execution_count": null,
      "outputs": []
    },
    {
      "cell_type": "code",
      "source": [
        "filtered_movies = []\n",
        "movies_words = []\n",
        "\n",
        "# 설명 문장을 토큰 단어들의 list로 만들고 단어들을 모두 소문자로만 구성되도록 처리한다.\n",
        "## 영화\n",
        "for text in movies_des['description']:\n",
        "    text_tokens = word_tokenize(text)\n",
        "    tokens_without_sw = [word.lower() for word in text_tokens if not word in stopwords.words()]\n",
        "    movies_words.append(tokens_without_sw)\n",
        "    filtered = (\" \").join(tokens_without_sw)\n",
        "    filtered_movies.append(filtered)\n",
        "\n",
        "movies_words = [val for sublist in movies_words for val in sublist]\n",
        "movies_words = sorted(set(movies_words))\n",
        "movies_des['description_filtered'] = filtered_movies\n",
        "print(movies_des.head())"
      ],
      "metadata": {
        "id": "K6Xea7d6Zx55"
      },
      "execution_count": null,
      "outputs": []
    },
    {
      "cell_type": "code",
      "source": [
        "## tv 쇼\n",
        "filtered_tv = []\n",
        "tv_words = []\n",
        "\n",
        "for text in tv_des['description']:\n",
        "    text_tokens = word_tokenize(text)\n",
        "    tokens_without_sw = [word.lower() for word in text_tokens if not word in stopwords.words()]\n",
        "    tv_words.append(tokens_without_sw)\n",
        "    filtered = (\" \").join(tokens_without_sw)\n",
        "    filtered_tv.append(filtered)\n",
        "\n",
        "tv_words = [val for sublist in tv_words for val in sublist]\n",
        "tv_words = sorted(set(tv_words))\n",
        "tv_des['description_filtered'] = filtered_tv\n",
        "print(tv_des.head())"
      ],
      "metadata": {
        "id": "54wnBVkVaIAH"
      },
      "execution_count": null,
      "outputs": []
    },
    {
      "cell_type": "code",
      "source": [
        "# 첫번째 방법에서 한 것처럼 해당 단어들의 포함 유무로 table을 생성\n",
        "## 영화\n",
        "movie_word_binary = [[0] * 0 for i in range(len(set(movies_words)))]\n",
        "\n",
        "for des in movies_des['description_filtered']:\n",
        "    k = 0\n",
        "    for word in movies_words:\n",
        "        if word in des:\n",
        "            movie_word_binary[k].append(1.0)\n",
        "        else:\n",
        "            movie_word_binary[k].append(0.0)\n",
        "        k+=1\n",
        "        \n",
        "movie_word_binary = pd.DataFrame(movie_word_binary).transpose()\n",
        "\n",
        "## tv 쇼\n",
        "tv_word_binary = [[0] * 0 for i in range(len(set(tv_words)))]\n",
        "\n",
        "for des in tv_des['description_filtered']:\n",
        "    k = 0\n",
        "    for word in tv_words:\n",
        "        if word in des:\n",
        "            tv_word_binary[k].append(1.0)\n",
        "        else:\n",
        "            tv_word_binary[k].append(0.0)\n",
        "        k+=1\n",
        "        \n",
        "tv_word_binary = pd.DataFrame(tv_word_binary).transpose()"
      ],
      "metadata": {
        "id": "AQxKmIlGaNHJ"
      },
      "execution_count": null,
      "outputs": []
    },
    {
      "cell_type": "markdown",
      "source": [
        "## 영화 및 tv 쇼에 대한 설명의 데이터를 사용하여 추천 시스템을 구현한다."
      ],
      "metadata": {
        "id": "fg7MGb--amQu"
      }
    },
    {
      "cell_type": "code",
      "source": [
        "# 다루는 list만 다를 뿐 전체적인 내용은 recommander()와 거의 똑같음\n",
        "def recommender2(search):\n",
        "    cs_list = []\n",
        "    binary_list = []\n",
        "    if search in movies_des['title'].values:\n",
        "        idx = movies_des[movies_des['title'] == search].index.item()\n",
        "        for i in movie_word_binary.iloc[idx]:\n",
        "            binary_list.append(i)\n",
        "        point1 = np.array(binary_list).reshape(1, -1)\n",
        "        point1 = [val for sublist in point1 for val in sublist]    \n",
        "        for j in range(len(movies_des)):\n",
        "            binary_list2 = []\n",
        "            for k in movie_word_binary.iloc[j]:\n",
        "                binary_list2.append(k)\n",
        "            point2 = np.array(binary_list2).reshape(1, -1)\n",
        "            point2 = [val for sublist in point2 for val in sublist]\n",
        "            dot_product = np.dot(point1, point2)\n",
        "            norm_1 = np.linalg.norm(point1)\n",
        "            norm_2 = np.linalg.norm(point2)\n",
        "            cos_sim = dot_product / (norm_1 * norm_2)\n",
        "            cs_list.append(cos_sim)\n",
        "        movies_copy = movies_des.copy()\n",
        "        movies_copy['cos_sim'] = cs_list\n",
        "        results = movies_copy.sort_values('cos_sim', ascending=False)\n",
        "        results = results[results['title'] != search]    \n",
        "        top_results = results.head(5)\n",
        "        return(top_results)\n",
        "    elif search in tv_des['title'].values:\n",
        "        idx = tv_des[tv_des['title'] == search].index.item()\n",
        "        for i in tv_word_binary.iloc[idx]:\n",
        "            binary_list.append(i)\n",
        "        point1 = np.array(binary_list).reshape(1, -1)\n",
        "        point1 = [val for sublist in point1 for val in sublist]\n",
        "        for j in range(len(tv)):\n",
        "            binary_list2 = []\n",
        "            for k in tv_word_binary.iloc[j]:\n",
        "                binary_list2.append(k)\n",
        "            point2 = np.array(binary_list2).reshape(1, -1)\n",
        "            point2 = [val for sublist in point2 for val in sublist]\n",
        "            dot_product = np.dot(point1, point2)\n",
        "            norm_1 = np.linalg.norm(point1)\n",
        "            norm_2 = np.linalg.norm(point2)\n",
        "            cos_sim = dot_product / (norm_1 * norm_2)\n",
        "            cs_list.append(cos_sim)\n",
        "        tv_copy = tv_des.copy()\n",
        "        tv_copy['cos_sim'] = cs_list\n",
        "        results = tv_copy.sort_values('cos_sim', ascending=False)\n",
        "        results = results[results['title'] != search]    \n",
        "        top_results = results.head(5)\n",
        "        return(top_results)\n",
        "    else:\n",
        "        return(\"Title not in dataset. Please check spelling.\")"
      ],
      "metadata": {
        "id": "34rM2MLGal_s"
      },
      "execution_count": null,
      "outputs": []
    },
    {
      "cell_type": "markdown",
      "source": [
        "## 영화를 추천해본다.  \n",
        "영화 제목을 검색하면 해당 영화와 설명이 비슷한 영화들을 추천해준다."
      ],
      "metadata": {
        "id": "D8tLLganbAh5"
      }
    },
    {
      "cell_type": "code",
      "source": [
        "pd.options.display.max_colwidth = 300\n",
        "print(recommender2('The Conjuring'))"
      ],
      "metadata": {
        "id": "oRKQyB3galBr"
      },
      "execution_count": null,
      "outputs": []
    },
    {
      "cell_type": "code",
      "source": [
        "print(recommender2(\"Child's Play\"))"
      ],
      "metadata": {
        "id": "rYQ_LrlqbbEr"
      },
      "execution_count": null,
      "outputs": []
    },
    {
      "cell_type": "code",
      "source": [
        "print(recommender2('Charlie and the Chocolate Factory'))"
      ],
      "metadata": {
        "id": "UlxUJ9kZbbEs"
      },
      "execution_count": null,
      "outputs": []
    },
    {
      "cell_type": "code",
      "source": [
        "print(recommender2('Wild Child'))"
      ],
      "metadata": {
        "id": "12f1cZS1bbEs"
      },
      "execution_count": null,
      "outputs": []
    },
    {
      "cell_type": "code",
      "source": [
        "print(recommender2(\"Dr. Seuss' The Cat in the Hat\"))"
      ],
      "metadata": {
        "id": "spemxKj1bbEs"
      },
      "execution_count": null,
      "outputs": []
    },
    {
      "cell_type": "code",
      "source": [
        "print(recommender2('Holidate'))"
      ],
      "metadata": {
        "id": "CxK2SYZsbbEs"
      },
      "execution_count": null,
      "outputs": []
    },
    {
      "cell_type": "markdown",
      "source": [
        "## TV 쇼를 추천해본다.  \n",
        "방법은 영화 추천과 같음."
      ],
      "metadata": {
        "id": "MhCwaqVkbkZH"
      }
    },
    {
      "cell_type": "code",
      "source": [
        "print(recommender2('After Life'))"
      ],
      "metadata": {
        "id": "aF1ykSGHbkZI"
      },
      "execution_count": null,
      "outputs": []
    },
    {
      "cell_type": "code",
      "source": [
        "print(recommender2('Anne with an E'))"
      ],
      "metadata": {
        "id": "2bGawMYRbkZI"
      },
      "execution_count": null,
      "outputs": []
    },
    {
      "cell_type": "code",
      "source": [
        "print(recommender2('Gilmore Girls'))"
      ],
      "metadata": {
        "id": "7YNFcp7DbkZI"
      },
      "execution_count": null,
      "outputs": []
    },
    {
      "cell_type": "code",
      "source": [
        "print(recommender2('Love on the Spectrum'))"
      ],
      "metadata": {
        "id": "z3qcucfvbkZI"
      },
      "execution_count": null,
      "outputs": []
    },
    {
      "cell_type": "code",
      "source": [
        "print(recommender2('13 Reasons Why'))"
      ],
      "metadata": {
        "id": "Z4-VF7K5bkZJ"
      },
      "execution_count": null,
      "outputs": []
    },
    {
      "cell_type": "code",
      "source": [
        "print(recommender2('Derry Girls'))"
      ],
      "metadata": {
        "id": "tTDfcW52bkZJ"
      },
      "execution_count": null,
      "outputs": []
    },
    {
      "cell_type": "code",
      "source": [
        "print(recommender2('Breaking Bad'))"
      ],
      "metadata": {
        "id": "ANSdU6ANbkZJ"
      },
      "execution_count": null,
      "outputs": []
    }
  ]
}